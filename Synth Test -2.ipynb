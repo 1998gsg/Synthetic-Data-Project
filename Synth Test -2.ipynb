{
 "cells": [
  {
   "cell_type": "markdown",
   "metadata": {},
   "source": [
    "# Packages"
   ]
  },
  {
   "cell_type": "code",
   "execution_count": 2,
   "metadata": {},
   "outputs": [],
   "source": [
    "from sklearn.metrics import accuracy_score\n",
    "from sklearn.linear_model import LogisticRegression\n",
    "from sklearn.model_selection import KFold\n",
    "import seaborn as sns\n",
    "import matplotlib.pyplot as plt\n",
    "from sklearn.metrics import mean_squared_error, r2_score\n",
    "from sklearn.linear_model import LinearRegression\n",
    "from sklearn.model_selection import train_test_split\n",
    "from sklearn.decomposition import PCA\n",
    "from sklearn.covariance import LedoitWolf\n",
    "from scipy.stats import multivariate_normal\n",
    "from scipy import stats\n",
    "import numpy as np\n",
    "import pandas as pd\n",
    "from scipy.stats import ks_2samp\n",
    "from scipy.stats import chisquare\n",
    "import seaborn as sns\n",
    "import pandas as pd\n",
    "import matplotlib.pyplot as plt"
   ]
  },
  {
   "cell_type": "markdown",
   "metadata": {},
   "source": [
    "# data load"
   ]
  },
  {
   "cell_type": "code",
   "execution_count": 11,
   "metadata": {},
   "outputs": [],
   "source": [
    "original_data = pd.read_csv(\"GAS_original-FS.csv\")\n",
    "synthetic_data = pd.read_csv(\"synthetic_data-GAN(1).csv\")"
   ]
  },
  {
   "cell_type": "markdown",
   "metadata": {},
   "source": [
    "# kolmogorov - smirnov"
   ]
  },
  {
   "cell_type": "code",
   "execution_count": 12,
   "metadata": {},
   "outputs": [
    {
     "name": "stdout",
     "output_type": "stream",
     "text": [
      "Kolmogorov-Smirnov test statistic:  0.19199950525154863\n",
      "Kolmogorov-Smirnov test p-value:  0.0\n"
     ]
    }
   ],
   "source": [
    "# Perform Kolmogorov-Smirnov test\n",
    "ks_stat, p_value = ks_2samp(original_data.values.flatten(), synthetic_data.values.flatten())\n",
    "print(\"Kolmogorov-Smirnov test statistic: \", ks_stat)\n",
    "print(\"Kolmogorov-Smirnov test p-value: \", p_value)"
   ]
  },
  {
   "cell_type": "markdown",
   "metadata": {},
   "source": [
    "# nominal statistical analysis"
   ]
  },
  {
   "cell_type": "code",
   "execution_count": 13,
   "metadata": {},
   "outputs": [
    {
     "name": "stdout",
     "output_type": "stream",
     "text": [
      "Original Data Stats:         response_address   resp_length  response_memory  resp_write_fun  \\\n",
      "count      97019.000000  97019.000000     97019.000000    97019.000000   \n",
      "mean           3.719436     26.294654       216.657170        9.298591   \n",
      "std            1.021543     26.560107        59.504855        2.553856   \n",
      "min            0.000000     19.000000         0.000000        0.000000   \n",
      "25%            4.000000     19.000000       233.000000       10.000000   \n",
      "50%            4.000000     19.000000       233.000000       10.000000   \n",
      "75%            4.000000     19.000000       233.000000       10.000000   \n",
      "max            4.000000    123.000000       233.000000       10.000000   \n",
      "\n",
      "       response_memory_count  resp_read_fun      setpoint  control_mode  \\\n",
      "count           97019.000000   97019.000000  97019.000000  97019.000000   \n",
      "mean               16.737464       2.449963     24.166607      0.899659   \n",
      "std                 4.596942       0.893052     14.322356      0.991003   \n",
      "min                 0.000000       1.000000     20.000000      0.000000   \n",
      "25%                18.000000       1.000000     20.000000      0.000000   \n",
      "50%                18.000000       3.000000     20.000000      0.000000   \n",
      "75%                18.000000       3.000000     20.000000      2.000000   \n",
      "max                18.000000       3.000000     90.000000      2.000000   \n",
      "\n",
      "               pump        result  \n",
      "count  97019.000000  97019.000000  \n",
      "mean       0.056381      0.369649  \n",
      "std        0.230657      0.482712  \n",
      "min        0.000000      0.000000  \n",
      "25%        0.000000      0.000000  \n",
      "50%        0.000000      0.000000  \n",
      "75%        0.000000      1.000000  \n",
      "max        1.000000      1.000000  \n",
      "Synthetic Data Stats :         response_address   resp_length  response_memory  resp_write_fun  \\\n",
      "count      97019.000000  97019.000000     97019.000000    97019.000000   \n",
      "mean           1.149393     48.770014        66.484163        2.889084   \n",
      "std            0.512040     12.125279        27.071711        1.197392   \n",
      "min            0.000000     19.000000         0.000000        0.000000   \n",
      "25%            1.000000     40.000000        47.000000        2.000000   \n",
      "50%            1.000000     47.000000        63.000000        3.000000   \n",
      "75%            1.000000     56.000000        83.000000        4.000000   \n",
      "max            4.000000    123.000000       233.000000       10.000000   \n",
      "\n",
      "       response_memory_count  resp_read_fun      setpoint  control_mode  \\\n",
      "count           97019.000000   97019.000000  97019.000000  97019.000000   \n",
      "mean                5.154918       1.983045     39.776456      0.974459   \n",
      "std                 2.112440       0.193408      8.101315      0.170632   \n",
      "min                 0.000000       1.000000     20.000000      0.000000   \n",
      "25%                 4.000000       2.000000     34.000000      1.000000   \n",
      "50%                 5.000000       2.000000     39.000000      1.000000   \n",
      "75%                 6.000000       2.000000     45.000000      1.000000   \n",
      "max                18.000000       3.000000     90.000000      2.000000   \n",
      "\n",
      "               pump        result  \n",
      "count  97019.000000  97019.000000  \n",
      "mean       0.953298      0.053000  \n",
      "std        0.211001      0.224034  \n",
      "min        0.000000      0.000000  \n",
      "25%        1.000000      0.000000  \n",
      "50%        1.000000      0.000000  \n",
      "75%        1.000000      0.000000  \n",
      "max        1.000000      1.000000  \n"
     ]
    }
   ],
   "source": [
    "statso = original_data.describe()\n",
    "statss = synthetic_data.describe()\n",
    "\n",
    "# Print the statistics\n",
    "print(\"Original Data Stats: \", statso)\n",
    "print(\"Synthetic Data Stats : \", statss)"
   ]
  },
  {
   "cell_type": "markdown",
   "metadata": {},
   "source": [
    "# Hotelling test + PCA + Mahalanobis distance"
   ]
  },
  {
   "cell_type": "code",
   "execution_count": 14,
   "metadata": {},
   "outputs": [
    {
     "name": "stdout",
     "output_type": "stream",
     "text": [
      "Hotelling T^2 test p-value: 1.0\n",
      "Original Mahalanobis distance mean: 71.93294661783641, std: 61.92535387848035\n",
      "Synthetic Mahalanobis distance mean: 34.816881869216644, std: 26.298318889357784\n"
     ]
    }
   ],
   "source": [
    "original_df = original_data\n",
    "synthetic_df = synthetic_data\n",
    "# Remove any columns that are not numerical\n",
    "original_df = original_df.select_dtypes(include=['number'])\n",
    "synthetic_df = synthetic_df.select_dtypes(include=['number'])\n",
    "\n",
    "# Calculate the correlation matrices for the original and synthetic datasets\n",
    "original_corr = original_df.corr()\n",
    "synthetic_corr = synthetic_df.corr()\n",
    "\n",
    "# Perform the Hotelling T^2 test to compare the means of the original and synthetic datasets\n",
    "# Assumes that the datasets have the same covariance structure\n",
    "n = len(original_df)\n",
    "p = len(original_df.columns)\n",
    "t2 = n * np.dot(np.dot((original_df.mean() - synthetic_df.mean()), np.linalg.inv(\n",
    "    (original_df.cov() + synthetic_df.cov())/2)), (original_df.mean() - synthetic_df.mean()).T)\n",
    "F = ((n-p-1)/p) * (n-2) * t2 / (n*(n-2-t2))\n",
    "p_value = 1 - stats.f.cdf(F, p, n-p-1)\n",
    "\n",
    "# Perform the Ledoit-Wolf shrinkage estimator to estimate the covariance matrix for each dataset\n",
    "lw = LedoitWolf().fit(original_df)\n",
    "original_cov = lw.covariance_\n",
    "lw = LedoitWolf().fit(synthetic_df)\n",
    "synthetic_cov = lw.covariance_\n",
    "\n",
    "# Generate multivariate normal distributions for the original and synthetic datasets\n",
    "original_dist = multivariate_normal(\n",
    "    mean=original_df.mean().values, cov=original_cov)\n",
    "synthetic_dist = multivariate_normal(\n",
    "    mean=synthetic_df.mean().values, cov=synthetic_cov)\n",
    "\n",
    "# Compute the Mahalanobis distance between each data point in the original and synthetic datasets\n",
    "original_mahal = original_dist.rvs(n).T\n",
    "original_mahal_dist = np.sqrt(\n",
    "    np.sum(np.square(original_mahal - original_df.T.values), axis=0))\n",
    "synthetic_mahal = synthetic_dist.rvs(n).T\n",
    "synthetic_mahal_dist = np.sqrt(\n",
    "    np.sum(np.square(synthetic_mahal - synthetic_df.T.values), axis=0))\n",
    "\n",
    "# Perform PCA on the original and synthetic datasets\n",
    "pca_original = PCA().fit(original_df)\n",
    "pca_synthetic = PCA().fit(synthetic_df)\n",
    "\n",
    "# Compute the principal components for each dataset\n",
    "original_pcs = pca_original.transform(original_df)\n",
    "synthetic_pcs = pca_synthetic.transform(synthetic_df)\n",
    "\n",
    "# Calculate the proportion of variance explained by each principal component\n",
    "original_var_exp = pca_original.explained_variance_ratio_\n",
    "synthetic_var_exp = pca_synthetic.explained_variance_ratio_\n",
    "\n",
    "# Compute the Mahalanobis distance between the principal components of the original and synthetic datasets\n",
    "pca_mahal_dist = np.sqrt(\n",
    "    np.sum(np.square(original_pcs - synthetic_pcs), axis=1))\n",
    "\n",
    "# Print out the results\n",
    "print(f\"Hotelling T^2 test p-value: {p_value}\")\n",
    "print(\n",
    "    f\"Original Mahalanobis distance mean: {original_mahal_dist.mean()}, std: {original_mahal_dist.std()}\")\n",
    "print(\n",
    "    f\"Synthetic Mahalanobis distance mean: {synthetic_mahal_dist.mean()}, std: {synthetic_mahal_dist.std()}\")\n"
   ]
  },
  {
   "cell_type": "markdown",
   "metadata": {},
   "source": [
    "# data describe "
   ]
  },
  {
   "cell_type": "code",
   "execution_count": 15,
   "metadata": {},
   "outputs": [
    {
     "name": "stdout",
     "output_type": "stream",
     "text": [
      "Synthetic data shape: (97019, 10)\n",
      "Original data shape: (97019, 10)\n",
      "Synthetic data summary statistics:\n",
      "        response_address   resp_length  response_memory  resp_write_fun  \\\n",
      "count      97019.000000  97019.000000     97019.000000    97019.000000   \n",
      "mean           1.149393     48.770014        66.484163        2.889084   \n",
      "std            0.512040     12.125279        27.071711        1.197392   \n",
      "min            0.000000     19.000000         0.000000        0.000000   \n",
      "25%            1.000000     40.000000        47.000000        2.000000   \n",
      "50%            1.000000     47.000000        63.000000        3.000000   \n",
      "75%            1.000000     56.000000        83.000000        4.000000   \n",
      "max            4.000000    123.000000       233.000000       10.000000   \n",
      "\n",
      "       response_memory_count  resp_read_fun      setpoint  control_mode  \\\n",
      "count           97019.000000   97019.000000  97019.000000  97019.000000   \n",
      "mean                5.154918       1.983045     39.776456      0.974459   \n",
      "std                 2.112440       0.193408      8.101315      0.170632   \n",
      "min                 0.000000       1.000000     20.000000      0.000000   \n",
      "25%                 4.000000       2.000000     34.000000      1.000000   \n",
      "50%                 5.000000       2.000000     39.000000      1.000000   \n",
      "75%                 6.000000       2.000000     45.000000      1.000000   \n",
      "max                18.000000       3.000000     90.000000      2.000000   \n",
      "\n",
      "               pump        result  \n",
      "count  97019.000000  97019.000000  \n",
      "mean       0.953298      0.053000  \n",
      "std        0.211001      0.224034  \n",
      "min        0.000000      0.000000  \n",
      "25%        1.000000      0.000000  \n",
      "50%        1.000000      0.000000  \n",
      "75%        1.000000      0.000000  \n",
      "max        1.000000      1.000000  \n",
      "Original data summary statistics:\n",
      "        response_address   resp_length  response_memory  resp_write_fun  \\\n",
      "count      97019.000000  97019.000000     97019.000000    97019.000000   \n",
      "mean           3.719436     26.294654       216.657170        9.298591   \n",
      "std            1.021543     26.560107        59.504855        2.553856   \n",
      "min            0.000000     19.000000         0.000000        0.000000   \n",
      "25%            4.000000     19.000000       233.000000       10.000000   \n",
      "50%            4.000000     19.000000       233.000000       10.000000   \n",
      "75%            4.000000     19.000000       233.000000       10.000000   \n",
      "max            4.000000    123.000000       233.000000       10.000000   \n",
      "\n",
      "       response_memory_count  resp_read_fun      setpoint  control_mode  \\\n",
      "count           97019.000000   97019.000000  97019.000000  97019.000000   \n",
      "mean               16.737464       2.449963     24.166607      0.899659   \n",
      "std                 4.596942       0.893052     14.322356      0.991003   \n",
      "min                 0.000000       1.000000     20.000000      0.000000   \n",
      "25%                18.000000       1.000000     20.000000      0.000000   \n",
      "50%                18.000000       3.000000     20.000000      0.000000   \n",
      "75%                18.000000       3.000000     20.000000      2.000000   \n",
      "max                18.000000       3.000000     90.000000      2.000000   \n",
      "\n",
      "               pump        result  \n",
      "count  97019.000000  97019.000000  \n",
      "mean       0.056381      0.369649  \n",
      "std        0.230657      0.482712  \n",
      "min        0.000000      0.000000  \n",
      "25%        0.000000      0.000000  \n",
      "50%        0.000000      0.000000  \n",
      "75%        0.000000      1.000000  \n",
      "max        1.000000      1.000000  \n"
     ]
    },
    {
     "data": {
      "image/png": "[encoded data removed]",
      "text/plain": [
       "<Figure size 1440x576 with 10 Axes>"
      ]
     },
     "metadata": {
      "needs_background": "light"
     },
     "output_type": "display_data"
    }
   ],
   "source": [
    "# Perform EDA on datasets\n",
    "\n",
    "# Check the shape of both dataframes to ensure they have the same number of features and rows\n",
    "print('Synthetic data shape:', synthetic_data.shape)\n",
    "print('Original data shape:', original_data.shape)\n",
    "\n",
    "# Use the describe() method on both dataframes to get the summary statistics of the data\n",
    "print('Synthetic data summary statistics:\\n', synthetic_data.describe())\n",
    "print('Original data summary statistics:\\n', original_data.describe())\n",
    "\n",
    "# Plot histograms of the features in both dataframes to visualize their distributions\n",
    "fig, axs = plt.subplots(nrows=2, ncols=5, figsize=(20, 8))\n",
    "for i, ax in enumerate(axs.flatten()):\n",
    "    ax.hist(synthetic_data.iloc[:, i], alpha=0.5, label='Synthetic data')\n",
    "    ax.hist(original_data.iloc[:, i], alpha=0.5, label='Original data')\n",
    "    ax.set_title(synthetic_data.columns[i])\n",
    "    ax.legend()\n",
    "plt.show()"
   ]
  },
  {
   "cell_type": "markdown",
   "metadata": {},
   "source": [
    "# Outlier and MSE values"
   ]
  },
  {
   "cell_type": "code",
   "execution_count": 16,
   "metadata": {},
   "outputs": [
    {
     "name": "stdout",
     "output_type": "stream",
     "text": [
      "Original dataset MSE: 0.1126, R-squared: 0.5153\n",
      "Synthetic dataset MSE: 0.0069, R-squared: 0.8657\n"
     ]
    }
   ],
   "source": [
    "# Identify any outliers or missing values in the dataframes and handle them appropriately\n",
    "synthetic_data.isnull().sum()\n",
    "original_data.isnull().sum()\n",
    "synthetic_data = synthetic_data.dropna()\n",
    "original_data = original_data.dropna()\n",
    "\n",
    "# Split datasets into training and testing sets\n",
    "X_train_orig, X_test_orig, y_train_orig, y_test_orig = train_test_split(\n",
    "    original_data.drop(columns=['result']), original_data['result'], test_size=0.2, random_state=42)\n",
    "X_train_synth, X_test_synth, y_train_synth, y_test_synth = train_test_split(\n",
    "    synthetic_data.drop(columns=['result']), synthetic_data['result'], test_size=0.2, random_state=42)\n",
    "\n",
    "# Train and evaluate regression model on original dataset\n",
    "orig_model = LinearRegression()\n",
    "orig_model.fit(X_train_orig, y_train_orig)\n",
    "y_pred_orig = orig_model.predict(X_test_orig)\n",
    "orig_mse = mean_squared_error(y_test_orig, y_pred_orig)\n",
    "orig_r2 = r2_score(y_test_orig, y_pred_orig)\n",
    "\n",
    "# Train and evaluate regression model on synthetic dataset\n",
    "synth_model = LinearRegression()\n",
    "synth_model.fit(X_train_synth, y_train_synth)\n",
    "y_pred_synth = synth_model.predict(X_test_synth)\n",
    "synth_mse = mean_squared_error(y_test_synth, y_pred_synth)\n",
    "synth_r2 = r2_score(y_test_synth, y_pred_synth)\n",
    "\n",
    "# Compare performance metrics of original and synthetic models\n",
    "print(\n",
    "    \"Original dataset MSE: {:.4f}, R-squared: {:.4f}\".format(orig_mse, orig_r2))\n",
    "print(\n",
    "    \"Synthetic dataset MSE: {:.4f}, R-squared: {:.4f}\".format(synth_mse, synth_r2))"
   ]
  },
  {
   "cell_type": "markdown",
   "metadata": {},
   "source": [
    "# Regression model score"
   ]
  },
  {
   "cell_type": "code",
   "execution_count": 17,
   "metadata": {},
   "outputs": [
    {
     "name": "stdout",
     "output_type": "stream",
     "text": [
      "Average R-squared score:  0.5195530306875654\n",
      "Average MSE score:  0.08007274052950104\n"
     ]
    }
   ],
   "source": [
    "X_orig = original_data.drop('result', axis=1)\n",
    "y_orig = original_data['result']\n",
    "X_syn = synthetic_data.drop('result', axis=1)\n",
    "y_syn = synthetic_data['result']\n",
    "# assuming X_orig and y_orig are the original data, and X_syn and y_syn are the synthetic data\n",
    "X = np.concatenate((X_orig, X_syn), axis=0)\n",
    "y = np.concatenate((y_orig, y_syn), axis=0)\n",
    "\n",
    "# define the number of folds\n",
    "k = 5\n",
    "\n",
    "# define the model\n",
    "model = LinearRegression()\n",
    "\n",
    "# initialize the K-Fold cross-validator\n",
    "kf = KFold(n_splits=k, shuffle=True)\n",
    "\n",
    "# initialize the arrays to store the results\n",
    "r_squared_scores = np.zeros(k)\n",
    "mse_scores = np.zeros(k)\n",
    "\n",
    "# loop over the folds\n",
    "for i, (train_index, test_index) in enumerate(kf.split(X)):\n",
    "    # split the data into training and test sets\n",
    "    X_train, X_test = X[train_index], X[test_index]\n",
    "    y_train, y_test = y[train_index], y[test_index]\n",
    "\n",
    "    # train the model on the training set\n",
    "    model.fit(X_train, y_train)\n",
    "\n",
    "    # evaluate the model on the test set\n",
    "    y_pred = model.predict(X_test)\n",
    "    r_squared_scores[i] = model.score(X_test, y_test)\n",
    "    mse_scores[i] = mean_squared_error(y_test, y_pred)\n",
    "\n",
    "# print the average results\n",
    "print(\"Average R-squared score: \", np.mean(r_squared_scores))\n",
    "print(\"Average MSE score: \", np.mean(mse_scores))"
   ]
  },
  {
   "cell_type": "markdown",
   "metadata": {},
   "source": [
    "# ML model using Logistic Regression "
   ]
  },
  {
   "cell_type": "code",
   "execution_count": 18,
   "metadata": {},
   "outputs": [
    {
     "name": "stdout",
     "output_type": "stream",
     "text": [
      "The synthetic data is of good quality.\n"
     ]
    },
    {
     "name": "stderr",
     "output_type": "stream",
     "text": [
      "C:\\Users\\Gautam\\anaconda3\\lib\\site-packages\\sklearn\\linear_model\\_logistic.py:762: ConvergenceWarning: lbfgs failed to converge (status=1):\n",
      "STOP: TOTAL NO. of ITERATIONS REACHED LIMIT.\n",
      "\n",
      "Increase the number of iterations (max_iter) or scale the data as shown in:\n",
      "    https://scikit-learn.org/stable/modules/preprocessing.html\n",
      "Please also refer to the documentation for alternative solver options:\n",
      "    https://scikit-learn.org/stable/modules/linear_model.html#logistic-regression\n",
      "  n_iter_i = _check_optimize_result(\n"
     ]
    }
   ],
   "source": [
    "# Load the necessary libraries\n",
    "\n",
    "# Split the original data into training and testing sets\n",
    "X_train, X_test, y_train, y_test = train_test_split(original_data.drop(\n",
    "    'result', axis=1), original_data['result'], test_size=0.2, random_state=42)\n",
    "\n",
    "# Train a machine learning model on the original training set\n",
    "model = LogisticRegression()\n",
    "model.fit(X_train, y_train)\n",
    "\n",
    "# Evaluate the performance of the model on the original testing set\n",
    "original_score = accuracy_score(y_test, model.predict(X_test))\n",
    "\n",
    "# Split the synthetic data into training and testing sets\n",
    "X_syn_train, X_syn_test, y_syn_train, y_syn_test = train_test_split(synthetic_data.drop(\n",
    "    'result', axis=1), synthetic_data['result'], test_size=0.2, random_state=42)\n",
    "\n",
    "# Train the same machine learning model on the synthetic training set\n",
    "syn_model = LogisticRegression()\n",
    "syn_model.fit(X_syn_train, y_syn_train)\n",
    "\n",
    "# Evaluate the performance of the model on the synthetic testing set\n",
    "synthetic_score = accuracy_score(y_syn_test, syn_model.predict(X_syn_test))\n",
    "\n",
    "# Compare the performance of the model on the testing sets of the original and synthetic data\n",
    "if original_score > synthetic_score:\n",
    "    print(\"The synthetic data is of poor quality.\")\n",
    "elif original_score < synthetic_score:\n",
    "    print(\"The synthetic data is of good quality.\")\n",
    "else:\n",
    "    print(\"the synthetic data perform as indicated\")"
   ]
  },
  {
   "cell_type": "code",
   "execution_count": 19,
   "metadata": {},
   "outputs": [
    {
     "name": "stdout",
     "output_type": "stream",
     "text": [
      "0.9945887445887446\n"
     ]
    }
   ],
   "source": [
    "print(synthetic_score)"
   ]
  },
  {
   "cell_type": "code",
   "execution_count": 20,
   "metadata": {},
   "outputs": [
    {
     "name": "stdout",
     "output_type": "stream",
     "text": [
      "0.9232117089259947\n"
     ]
    }
   ],
   "source": [
    "print(original_score)"
   ]
  },
  {
   "cell_type": "code",
   "execution_count": null,
   "metadata": {},
   "outputs": [],
   "source": []
  }
 ],
 "metadata": {
  "kernelspec": {
   "display_name": "Python 3",
   "language": "python",
   "name": "python3"
  },
  "language_info": {
   "codemirror_mode": {
    "name": "ipython",
    "version": 3
   },
   "file_extension": ".py",
   "mimetype": "text/x-python",
   "name": "python",
   "nbconvert_exporter": "python",
   "pygments_lexer": "ipython3",
   "version": "3.8.3"
  }
 },
 "nbformat": 4,
 "nbformat_minor": 4
}
